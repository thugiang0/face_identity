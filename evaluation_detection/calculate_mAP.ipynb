{
 "cells": [
  {
   "cell_type": "code",
   "execution_count": 1,
   "metadata": {},
   "outputs": [],
   "source": [
    "import os\n",
    "import matplotlib.pyplot as plt\n",
    "import pandas as pd\n",
    "import numpy as np"
   ]
  },
  {
   "cell_type": "code",
   "execution_count": 2,
   "metadata": {},
   "outputs": [],
   "source": [
    "def read_predbox_from_file(filepath):\n",
    "    with open(filepath, 'r') as file:\n",
    "        lines = file.readlines()\n",
    "    bboxes = []\n",
    "    scores = []\n",
    "    for line in lines:\n",
    "        parts = line.strip().split() \n",
    "        if len(parts) > 0:\n",
    "            bbox = [int(parts[2]), int(parts[3]), int(parts[4]), int(parts[5])]\n",
    "            bboxes.append(bbox)\n",
    "            scores.append(parts[1])\n",
    "    return bboxes, scores\n",
    "\n",
    "def read_gtbox_from_file(filepath):\n",
    "    with open(filepath, 'r') as file:\n",
    "        lines = file.readlines()\n",
    "    bboxes = []\n",
    "    for line in lines:\n",
    "        parts = line.strip().split() \n",
    "        bbox = [int(parts[1]), int(parts[2]), int(parts[3]), int(parts[4])]\n",
    "        bboxes.append(bbox)\n",
    "    return bboxes"
   ]
  },
  {
   "cell_type": "code",
   "execution_count": 3,
   "metadata": {},
   "outputs": [],
   "source": [
    "def calculate_iou(boxA, boxB):\n",
    "\txA = max(boxA[0], boxB[0])\n",
    "\tyA = max(boxA[1], boxB[1])\n",
    "\txB = min(boxA[2], boxB[2])\n",
    "\tyB = min(boxA[3], boxB[3])\n",
    "\tinterArea = max(0, xB - xA + 1) * max(0, yB - yA + 1)\n",
    "\tboxAArea = (boxA[2] - boxA[0] + 1) * (boxA[3] - boxA[1] + 1)\n",
    "\tboxBArea = (boxB[2] - boxB[0] + 1) * (boxB[3] - boxB[1] + 1)\n",
    "\tiou = interArea / float(boxAArea + boxBArea - interArea)\n",
    "\treturn iou"
   ]
  },
  {
   "cell_type": "code",
   "execution_count": 4,
   "metadata": {},
   "outputs": [],
   "source": [
    "def calculate_precision_recall(predict_boxes_folder, groundtruth_boxes_folder, iou_threshold=0.5, score_threshold=0.5):\n",
    "    detections = []\n",
    "    len_gt = 0\n",
    "    list_pred = os.listdir(predict_boxes_folder)\n",
    "    for file_pred in list_pred: \n",
    "        predict_boxes_path = os.path.join(predict_boxes_folder, file_pred)\n",
    "        groundtruth_boxes_path = os.path.join(groundtruth_boxes_folder, file_pred)\n",
    "        pred_boxes, scores = read_predbox_from_file(predict_boxes_path)\n",
    "        gt_boxes = read_gtbox_from_file(groundtruth_boxes_path)\n",
    "        len_gt += len(gt_boxes)\n",
    "        for pred_box, score in zip(pred_boxes, scores):\n",
    "            score = float(score)\n",
    "            max_iou = 0.0\n",
    "            for gt_box in gt_boxes:\n",
    "                iou = calculate_iou(pred_box, gt_box)\n",
    "                if iou > max_iou:\n",
    "                    max_iou = iou\n",
    "\n",
    "            if score >= score_threshold and max_iou >= iou_threshold:\n",
    "                TP = 1\n",
    "                FP = 0         \n",
    "            else:\n",
    "                TP = 0\n",
    "                FP = 1\n",
    "\n",
    "            detection = {\n",
    "                \"score\": score,\n",
    "                \"TP\": TP,\n",
    "                \"FP\": FP\n",
    "            }\n",
    "\n",
    "            detections.append(detection)\n",
    "\n",
    "    sorted_detections = sorted(detections, key=lambda x: x[\"score\"], reverse=True)\n",
    "\n",
    "    acc_TP = 0\n",
    "    acc_FP = 0\n",
    "\n",
    "    for detection in sorted_detections:\n",
    "        acc_TP += detection[\"TP\"]\n",
    "        acc_FP += detection[\"FP\"]\n",
    "\n",
    "        detection[\"AccTP\"] = acc_TP\n",
    "        detection[\"AccFP\"] = acc_FP\n",
    "        detection['precision'] = acc_TP / (acc_TP + acc_FP)\n",
    "        detection['recall'] = acc_TP / len_gt\n",
    "\n",
    "    return sorted_detections"
   ]
  },
  {
   "cell_type": "code",
   "execution_count": 5,
   "metadata": {},
   "outputs": [],
   "source": [
    "def calculate_AP_11_points(sorted_detections):\n",
    "  precision_inter = []\n",
    "\n",
    "  for i in range(0, 11):\n",
    "      r = i / 10.0\n",
    "      max_precision = None\n",
    "\n",
    "      for detection in reversed(sorted_detections):\n",
    "          recall = detection.get('recall')\n",
    "          precision = detection.get('precision')\n",
    "          if recall > r and (max_precision is None or precision > max_precision):\n",
    "              max_precision = precision\n",
    "      precision_inter.append(max_precision)\n",
    "\n",
    "  prec = [float(element) if element is not None  else 0.0 for element in precision_inter]\n",
    "  AP = np.mean(prec)\n",
    "  return AP"
   ]
  },
  {
   "cell_type": "code",
   "execution_count": 14,
   "metadata": {},
   "outputs": [
    {
     "name": "stdout",
     "output_type": "stream",
     "text": [
      "0.1803848209513629\n"
     ]
    }
   ],
   "source": [
    "# MTCNN\n",
    "\n",
    "wider_gt = \"widerface_test_1000/wider_gt/\"\n",
    "wider_pred = \"widerface_test_1000/wider_pred_face/\"\n",
    "\n",
    "sorted_detections_mtcnn = calculate_precision_recall(wider_pred, wider_gt)\n",
    "AP = calculate_AP_11_points(sorted_detections_mtcnn)\n",
    "mAP = AP  # 1 class\n",
    "print(mAP)\n"
   ]
  },
  {
   "cell_type": "code",
   "execution_count": 15,
   "metadata": {},
   "outputs": [
    {
     "name": "stdout",
     "output_type": "stream",
     "text": [
      "0.2707510037218177\n"
     ]
    }
   ],
   "source": [
    "# Retinaface\n",
    "\n",
    "wider_gt = \"widerface_test_retina/wider_gt/\"\n",
    "wider_pred = \"widerface_test_retina/wider_pred/\"\n",
    "\n",
    "sorted_detections_retina = calculate_precision_recall(wider_pred, wider_gt)\n",
    "AP = calculate_AP_11_points(sorted_detections_retina)\n",
    "mAP = AP  # 1 class\n",
    "print(mAP)"
   ]
  },
  {
   "cell_type": "code",
   "execution_count": null,
   "metadata": {},
   "outputs": [],
   "source": [
    "# link: "
   ]
  },
  {
   "cell_type": "code",
   "execution_count": 8,
   "metadata": {},
   "outputs": [],
   "source": [
    "def calculate_ap_11_point_interp(rec, prec, recall_vals=11):\n",
    "    mrec = []\n",
    "    # mrec.append(0)\n",
    "    [mrec.append(e) for e in rec]\n",
    "    # mrec.append(1)\n",
    "    mpre = []\n",
    "    # mpre.append(0)\n",
    "    [mpre.append(e) for e in prec]\n",
    "    # mpre.append(0)\n",
    "    recallValues = np.linspace(0, 1, recall_vals)\n",
    "    recallValues = list(recallValues[::-1])\n",
    "    rhoInterp = []\n",
    "    recallValid = []\n",
    "    # For each recallValues (0, 0.1, 0.2, ... , 1)\n",
    "    for r in recallValues:\n",
    "        # Obtain all recall values higher or equal than r\n",
    "        argGreaterRecalls = np.argwhere(mrec[:] >= r)\n",
    "        pmax = 0\n",
    "        # If there are recalls above r\n",
    "        if argGreaterRecalls.size != 0:\n",
    "            pmax = max(mpre[argGreaterRecalls.min():])\n",
    "        recallValid.append(r)\n",
    "        rhoInterp.append(pmax)\n",
    "    # By definition AP = sum(max(precision whose recall is above r))/11\n",
    "    ap = sum(rhoInterp) / len(recallValues)\n",
    "    # Generating values for the plot\n",
    "    rvals = []\n",
    "    rvals.append(recallValid[0])\n",
    "    [rvals.append(e) for e in recallValid]\n",
    "    rvals.append(0)\n",
    "    pvals = []\n",
    "    pvals.append(0)\n",
    "    [pvals.append(e) for e in rhoInterp]\n",
    "    pvals.append(0)\n",
    "    # rhoInterp = rhoInterp[::-1]\n",
    "    cc = []\n",
    "    for i in range(len(rvals)):\n",
    "        p = (rvals[i], pvals[i - 1])\n",
    "        if p not in cc:\n",
    "            cc.append(p)\n",
    "        p = (rvals[i], pvals[i])\n",
    "        if p not in cc:\n",
    "            cc.append(p)\n",
    "    recallValues = [i[0] for i in cc]\n",
    "    rhoInterp = [i[1] for i in cc]\n",
    "    return [ap, rhoInterp, recallValues, None]"
   ]
  },
  {
   "cell_type": "code",
   "execution_count": 17,
   "metadata": {},
   "outputs": [
    {
     "name": "stdout",
     "output_type": "stream",
     "text": [
      "[0.1803848209513629, [0, 0, 0, 0, 0, 0, 0, 0, 0, 0, 0.984233030464992, 0.984233030464992, 1.0, 0], [1.0, 0.9, 0.8, 0.7000000000000001, 0.6000000000000001, 0.5, 0.4, 0.30000000000000004, 0.2, 0.1, 0.1, 0.0, 0.0, 0], None]\n"
     ]
    }
   ],
   "source": [
    "# mtcnn\n",
    "precision = [dict[\"precision\"] for dict in sorted_detections_mtcnn if \"precision\" in dict]\n",
    "recall = [dict[\"recall\"] for dict in sorted_detections_mtcnn if \"recall\" in dict]\n",
    "result = calculate_ap_11_point_interp(recall, precision, recall_vals=11)\n",
    "print(result)"
   ]
  },
  {
   "cell_type": "code",
   "execution_count": 18,
   "metadata": {},
   "outputs": [
    {
     "name": "stdout",
     "output_type": "stream",
     "text": [
      "[0.2707510037218177, [0, 0, 0, 0, 0, 0, 0, 0, 0, 0.9813482547295497, 0.9813482547295497, 0.9969127862104451, 0.9969127862104451, 1.0, 0], [1.0, 0.9, 0.8, 0.7000000000000001, 0.6000000000000001, 0.5, 0.4, 0.30000000000000004, 0.2, 0.2, 0.1, 0.1, 0.0, 0.0, 0], None]\n"
     ]
    }
   ],
   "source": [
    "#retinaface\n",
    "precision = [dict[\"precision\"] for dict in sorted_detections_retina if \"precision\" in dict]\n",
    "recall = [dict[\"recall\"] for dict in sorted_detections_retina if \"recall\" in dict]\n",
    "result = calculate_ap_11_point_interp(recall, precision, recall_vals=11)\n",
    "print(result)"
   ]
  },
  {
   "cell_type": "code",
   "execution_count": null,
   "metadata": {},
   "outputs": [],
   "source": []
  },
  {
   "cell_type": "code",
   "execution_count": null,
   "metadata": {},
   "outputs": [],
   "source": [
    "# link: "
   ]
  },
  {
   "cell_type": "code",
   "execution_count": null,
   "metadata": {},
   "outputs": [],
   "source": []
  }
 ],
 "metadata": {
  "kernelspec": {
   "display_name": "facial",
   "language": "python",
   "name": "python3"
  },
  "language_info": {
   "codemirror_mode": {
    "name": "ipython",
    "version": 3
   },
   "file_extension": ".py",
   "mimetype": "text/x-python",
   "name": "python",
   "nbconvert_exporter": "python",
   "pygments_lexer": "ipython3",
   "version": "3.8.17"
  },
  "orig_nbformat": 4
 },
 "nbformat": 4,
 "nbformat_minor": 2
}
